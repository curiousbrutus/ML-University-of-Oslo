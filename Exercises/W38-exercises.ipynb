{
 "cells": [
  {
   "cell_type": "markdown",
   "id": "d4afea4a-bf43-47ae-bfed-6e395b01b1ca",
   "metadata": {},
   "source": [
    "# Week 38 - exercises\n",
    "### authors: *Alicja Terelak, Giorgio Chiro, Eyyüb Güven*"
   ]
  },
  {
   "cell_type": "markdown",
   "id": "a84bb8a2-b032-4e7c-8937-e67edb4f79eb",
   "metadata": {},
   "source": [
    "1. Expanding the term:\n",
    "$$\\mathbb{E}[(\\boldsymbol{y}-\\boldsymbol{\\tilde{y}})^2] = \\mathbb{E}[(\\boldsymbol{y}-\\mathbb{E}[\\boldsymbol{\\tilde{y}}] + \\mathbb{E}[\\boldsymbol{\\tilde{y}}]-\\boldsymbol{\\tilde{y}})^2]$$"
   ]
  },
  {
   "cell_type": "markdown",
   "id": "e193c94e-1c47-4718-90d8-51215b0b98e7",
   "metadata": {},
   "source": [
    "2. Following the information, that the variance of a sum is equal to the sum of the variances, here is a rewriting of the above expression:\n",
    "\n",
    "$$\\mathbb{E}[(\\boldsymbol{y}-\\boldsymbol{\\tilde{y}})^2] = \\mathbb{E}[(\\boldsymbol{y}-\\mathbb{E}[\\boldsymbol{\\tilde{y}}])^2] + \\mathbb{E}[(\\mathbb{E}[\\boldsymbol{\\tilde{y}}]-\\boldsymbol{\\tilde{y}})^2] + 2\\mathbb{E}[(\\boldsymbol{y}-\\mathbb{E}[\\boldsymbol{\\tilde{y}}])(\\mathbb{E}[\\boldsymbol{\\tilde{y}}]-\\boldsymbol{\\tilde{y}})]$$"
   ]
  },
  {
   "cell_type": "markdown",
   "id": "20ec4dcb-cd49-4d60-8179-dccc15736ff8",
   "metadata": {},
   "source": [
    "3. The residual: $\\boldsymbol{y}-\\mathbb{E}[\\boldsymbol{\\tilde{y}}]$, and the predicted output $\\mathbb{E}[\\boldsymbol{\\tilde{y}}]-\\boldsymbol{\\tilde{y}}$, are independent of each other, so we are simplifying the last term of the expression above to $0$."
   ]
  },
  {
   "cell_type": "markdown",
   "id": "082acda2-cde5-452b-9ec3-38e7c2cf5809",
   "metadata": {},
   "source": [
    "4. Rewriting:\n",
    "$$\\mathbb{E}[(\\boldsymbol{y}-\\boldsymbol{\\tilde{y}})^2] = \\mathbb{E}[(\\boldsymbol{y}-\\mathbb{E}[\\boldsymbol{\\tilde{y}}])^2] + \\mathbb{E}[(\\mathbb{E}[\\boldsymbol{\\tilde{y}}]-\\boldsymbol{\\tilde{y}})^2]$$"
   ]
  },
  {
   "cell_type": "markdown",
   "id": "a874ae35-3254-4ae7-9b36-140f9771f5d2",
   "metadata": {},
   "source": [
    "5. The bias of the OLS model:\n",
    "$$\\mathrm{Bias}[\\tilde{y}] = \\mathbb{E}[(\\boldsymbol{y}-\\mathbb{E}[\\boldsymbol{\\tilde{y}}])^2]$$"
   ]
  },
  {
   "cell_type": "markdown",
   "id": "77cbf0a8-d910-4c59-84e7-b8e185345258",
   "metadata": {},
   "source": [
    "6. The variance of the OLS model:\n",
    "$$\\mathrm{var}[\\tilde{y}] = \\mathbb{E}[(\\mathbb{E}[\\boldsymbol{\\tilde{y}}]-\\boldsymbol{\\tilde{y}})^2]$$"
   ]
  },
  {
   "cell_type": "markdown",
   "id": "590fc3f4-2c38-42d3-a50e-32f3331149e7",
   "metadata": {},
   "source": [
    "7. Substituting the definitions of bias and variance to get:\n",
    "$$\\mathbb{E}[(\\boldsymbol{y}-\\boldsymbol{\\tilde{y}})^2] = \\mathrm{Bias}[\\tilde{y}] + \\mathrm{var}[\\tilde{y}]$$"
   ]
  },
  {
   "cell_type": "markdown",
   "id": "d4d904ef-5570-4467-baa2-e5b487413ccf",
   "metadata": {},
   "source": [
    "8. Adding the noise variance $\\sigma^2$:\n",
    "\n",
    "$$\\mathbb{E}[(\\boldsymbol{y}-\\boldsymbol{\\tilde{y}})^2] = \\mathrm{Bias}[\\tilde{y}] + \\mathrm{var}[\\tilde{y}] + \\sigma^2$$"
   ]
  },
  {
   "cell_type": "markdown",
   "id": "dbfb1c45-d902-439e-884e-d6ba7f6bf6c2",
   "metadata": {},
   "source": [
    "Now we have got the complete decomposition of the expected MSE."
   ]
  }
 ],
 "metadata": {
  "kernelspec": {
   "display_name": "Python 3 (ipykernel)",
   "language": "python",
   "name": "python3"
  },
  "language_info": {
   "codemirror_mode": {
    "name": "ipython",
    "version": 3
   },
   "file_extension": ".py",
   "mimetype": "text/x-python",
   "name": "python",
   "nbconvert_exporter": "python",
   "pygments_lexer": "ipython3",
   "version": "3.11.4"
  }
 },
 "nbformat": 4,
 "nbformat_minor": 5
}

{
 "cells": [
  {
   "cell_type": "markdown",
   "id": "2545b9d9-a7b7-458c-9ce4-d58a587ca870",
   "metadata": {},
   "source": [
    "# Week 37 Exercises Group: Eyyüb Güven, Alicja Terelak, Giorgio Chirio"
   ]
  },
  {
   "cell_type": "markdown",
   "id": "d18e8d92-c837-4849-baf7-69ada93d44a3",
   "metadata": {},
   "source": [
    "## Exercise 1"
   ]
  },
  {
   "cell_type": "markdown",
   "id": "1f5d5ef8-4f5b-4c88-baa7-35e437caa07d",
   "metadata": {},
   "source": [
    "Show that $\\mathbb{E}[y_i] = \\sum_j x_{i,j}\\beta_j=X_{i,*}\\beta$"
   ]
  },
  {
   "cell_type": "markdown",
   "id": "71e042e9-1ea6-4c96-bd5c-5ae8a8ce19d1",
   "metadata": {},
   "source": [
    "Having $\\epsilon \\sim N(0,\\sigma^2)$"
   ]
  },
  {
   "cell_type": "markdown",
   "id": "eb076110-a598-44e4-8d3e-5aba2ab8d0c6",
   "metadata": {},
   "source": [
    "$\\mathbb{E}[y_i] = \\mathbb{E}[\\tilde{y}+\\epsilon_i] = \\mathbb{E}[\\tilde{y}]+\\mathbb{E}{\\epsilon_i}=\\mathbb{E}[X_{i,*}\\beta]+\\mathbb{E}[\\epsilon_i] = \\mathbb{E}[\\sum_j(x_{i,j}\\beta_j)]+\\mathbb{E}[\\epsilon_i] = \\mathbb{E}[\\sum_j(x_{i,j}\\beta_j)] = \\sum_j(x_{i,j}\\beta_j) = X_{i,*}\\beta$"
   ]
  },
  {
   "cell_type": "markdown",
   "id": "ea9b3eb5-da65-4cf8-b9d5-4c1d105b5fd3",
   "metadata": {},
   "source": [
    "Show that $var(y_i) = \\sigma^2$"
   ]
  },
  {
   "cell_type": "markdown",
   "id": "8802c8d1-ff5b-4182-a960-16756f05fbaf",
   "metadata": {},
   "source": [
    "Having $\\epsilon \\sim N(0,\\sigma^2)$ and $y_i \\sim N(X_{i,*}\\beta, ?)$"
   ]
  },
  {
   "cell_type": "markdown",
   "id": "ec82e5e4-a412-49f6-b87e-15a2148f2807",
   "metadata": {},
   "source": [
    "$Var(y_i) = \\mathbb{E}[y_i-\\mathbb{E}[y_i]]^2 = \\mathbb{E}[y_i^2-[\\mathbb{E}[y_i]]^2]^2 = \\mathbb{E}[y_i^2]-[\\mathbb{E}[y_i]]^2 = \\mathbb{E}[(X_{i,*}\\beta+\\epsilon_i)^2] - (X_{i,*}\\beta)^2 = $\n",
    "\n",
    "$= \\mathbb{E}[(X_{i,*}\\beta)^2+2X_{i,*}\\beta\\epsilon_i + \\epsilon_i^2] - (X_{i,*}\\beta)^2 = \\mathbb{E}[(X_{i,*}\\beta)^2] + \\mathbb{E}[2X_{i,*}\\beta\\epsilon_i] + \\mathbb{E}[\\epsilon_i^2] - (X_{i,*}\\beta)^2 = $\n",
    "\n",
    "$= (X_{i,*}\\beta)^2 + 2X_{i,*}\\beta\\mathbb{E}[\\epsilon_i] + \\mathbb{E}[\\epsilon_i^2] - (X_{i,*}\\beta)^2  = (X_{i,*}\\beta)^2 + \\mathbb{E}[\\epsilon_i^2] - (X_{i,*}\\beta)^2 = \\mathbb{E}[\\epsilon_i^2] = Var[\\epsilon_i] = \\sigma^2$"
   ]
  },
  {
   "cell_type": "markdown",
   "id": "ae1361ad-2628-43b3-98c4-e3b2fd4fb2b6",
   "metadata": {},
   "source": [
    "At the end we have that y is a Gaussian distribution with mean $X\\beta$ and Variance of $\\sigma^2$"
   ]
  },
  {
   "cell_type": "markdown",
   "id": "ef47df55-7f10-4c26-933f-260e8815073f",
   "metadata": {},
   "source": [
    "Using what we discovered we can show that $\\mathbb{E}[\\hat{\\beta}] = \\beta$"
   ]
  },
  {
   "cell_type": "markdown",
   "id": "001f4b1f-c58f-442e-b52b-a30eed15fabe",
   "metadata": {},
   "source": [
    "Having $y \\sim N(X\\beta,\\sigma^2)$"
   ]
  },
  {
   "cell_type": "markdown",
   "id": "a2e09c73-9670-4aa4-a402-a2e45b8e3e10",
   "metadata": {},
   "source": [
    "$\\mathbb{E}[\\hat{\\beta}] = \\mathbb{E}[(XX^T)^{-1}X^TY] = (XX^T)^{-1}X^T\\mathbb{E}[Y] =(XX^T)^{-1}X^TX\\beta = \\beta$"
   ]
  },
  {
   "cell_type": "markdown",
   "id": "0d94bea1-06b8-488f-9659-2b857556eced",
   "metadata": {},
   "source": [
    "Show that $Var(\\hat{\\beta}) = \\sigma^2(XX^T)^{-1}$"
   ]
  },
  {
   "cell_type": "markdown",
   "id": "04db41aa-cacb-45d0-a447-12e4c0c2694e",
   "metadata": {},
   "source": [
    "Having $y \\sim N(X\\beta,\\sigma^2)$ and $\\mathbb{E}(\\beta) = \\beta$"
   ]
  },
  {
   "cell_type": "markdown",
   "id": "7b7b7c28-6d62-4ac8-8537-8aa4fb217fd1",
   "metadata": {},
   "source": [
    "$Var(\\hat{\\beta}) = \\mathbb{E}[(\\beta-\\mathbb{E}[\\beta])(\\beta-\\mathbb{E}[\\beta])^T] = \\mathbb{E}[((XX^T)^{-1}X^TY-\\beta)((XX^T)^{-1}X^TY-\\beta)^T] = (XX^T)^{-1}X^T\\mathbb{E}[YY^T](XX^T)^{-1}X - \\beta\\beta^T = $\n",
    "\n",
    "$=(XX^T)^{-1}X^T\\mathbb{E}[X\\beta\\beta^TX^T+\\epsilon^2](XX^T)^{-1}X - \\beta\\beta^T = \\beta\\beta^T+\\sigma^2(XX^T)^{-1}-\\beta\\beta^T = \\sigma^2(XX^T)^{-1}$"
   ]
  },
  {
   "cell_type": "markdown",
   "id": "7f0ac8d3-29f9-4615-b4c0-cc7acf8aa30e",
   "metadata": {},
   "source": [
    "So, now we have that $\\hat{\\beta}^{OLS} \\sim N(\\beta,\\sigma^2(XX^T)^{-1})$"
   ]
  },
  {
   "cell_type": "markdown",
   "id": "bf04ea90-e3ce-4362-879a-0bcaeda16969",
   "metadata": {},
   "source": [
    "## Exercise 2"
   ]
  },
  {
   "cell_type": "markdown",
   "id": "6245856c-7c6c-425d-b0ec-bddc6366f17b",
   "metadata": {},
   "source": [
    "Show that $\\mathbb{E}[\\hat{\\beta}^{ridge}] = (X^TX+\\lambda I_{pp})^{-1}(X^TX)\\beta^{OLS}$"
   ]
  },
  {
   "cell_type": "markdown",
   "id": "8c8766dc-6f97-4db8-9b79-b65cb669b875",
   "metadata": {},
   "source": [
    "Having $\\hat{\\beta}^{OLS} \\sim N(\\beta,\\sigma^2(XX^T)^{-1})$"
   ]
  },
  {
   "cell_type": "markdown",
   "id": "bda65063-de2c-4017-866f-ba3f1c394cd2",
   "metadata": {},
   "source": [
    "$\\mathbb{E}[\\hat{\\beta}^{Ridge}] = \\mathbb{E}[(XX^T+\\lambda I_{pp})^{-1}X^TY] = (XX^T + \\lambda I_{pp})^{-1}X^T\\mathbb{E}[Y] =(XX^T + \\lambda I_{pp})^{-1}(X^TX)\\beta$"
   ]
  },
  {
   "cell_type": "markdown",
   "id": "3dde6243-82ff-4d67-8200-b13fac72febd",
   "metadata": {},
   "source": [
    "We now have that $\\hat{\\beta}^{Ridge} \\sim N((XX^T + \\lambda I_{pp})^{-1}(X^TX)\\beta, ?)$"
   ]
  },
  {
   "cell_type": "markdown",
   "id": "0793c334-069e-4b24-9a26-6cf33241ef4d",
   "metadata": {},
   "source": [
    "Show that $Var(\\hat{\\beta}^{Ridge}) = \\sigma^2[X^TX+\\lambda I]^{-1}XX^T \\{ [X^TX+\\lambda I]^{-1} \\}^T$"
   ]
  },
  {
   "cell_type": "markdown",
   "id": "72c637a3-a793-44af-ba11-26d24e5b58c9",
   "metadata": {},
   "source": [
    "$Var(\\hat{\\beta}^{Ridge}) = \\mathbb{E}[(\\beta-\\mathbb{E}[\\beta])(\\beta-\\mathbb{E}[\\beta])^T] = \\mathbb{E}[((XX^T+\\lambda I)^{-1}X^TY-\\beta)((XX^T+\\lambda I)^{-1}X^TY-\\beta)^T] = (XX^T+\\lambda I)^{-1}X^T\\mathbb{E}[YY^T](XX^T + \\lambda I)^{-1}X - \\beta\\beta^T = $\n",
    "\n",
    "$=(XX^T+\\lambda I)^{-1}X^T\\mathbb{E}[X\\beta\\beta^TX^T+\\epsilon^2](XX^T + \\lambda I)^{-1}X - \\beta\\beta^T = \\sigma^2(XX^T+\\lambda I)^{-1} XX^T \\{[X^TX +\\lambda I]^{-1}\\}^T$"
   ]
  }
 ],
 "metadata": {
  "kernelspec": {
   "display_name": "Python 3 (ipykernel)",
   "language": "python",
   "name": "python3"
  },
  "language_info": {
   "codemirror_mode": {
    "name": "ipython",
    "version": 3
   },
   "file_extension": ".py",
   "mimetype": "text/x-python",
   "name": "python",
   "nbconvert_exporter": "python",
   "pygments_lexer": "ipython3",
   "version": "3.10.12"
  }
 },
 "nbformat": 4,
 "nbformat_minor": 5
}

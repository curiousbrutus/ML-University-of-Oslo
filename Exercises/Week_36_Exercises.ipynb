{
 "cells": [
  {
   "cell_type": "markdown",
   "id": "1d3148d1-2635-47fa-a47e-d9484f492cc2",
   "metadata": {},
   "source": [
    "# Week 36 Exercises Group: Eyyüb Güven, Alicja Terelak, Giorgio Chirio"
   ]
  },
  {
   "cell_type": "markdown",
   "id": "74d1008c-dca5-4036-8ac7-2d8e2661e6ca",
   "metadata": {},
   "source": [
    "## Exercise 1"
   ]
  },
  {
   "cell_type": "markdown",
   "id": "ec4bb6ed-f2bf-473e-9672-90eeef3a89d6",
   "metadata": {},
   "source": [
    "### A)"
   ]
  },
  {
   "cell_type": "markdown",
   "id": "0ff13fae-2d80-49e7-a767-c629efa06571",
   "metadata": {},
   "source": [
    "$\\frac {d}{d\\beta} (y-X\\beta)^T(y-X\\beta)+\\lambda\\beta^T\\beta = 0$\n",
    "\n",
    "$-2(y-X\\beta)^TX+\\lambda2\\beta^T = 0$\n",
    "\n",
    "$-X^T(y-X\\beta)+\\lambda\\beta = 0$\n",
    "\n",
    "$-X^Ty+X^TX\\beta+\\lambda\\beta = 0$\n",
    "\n",
    "$(X^TX+I\\lambda)\\beta = X^Ty$\n",
    "\n",
    "$\\beta = (X^TX+I\\lambda)^-1X^Ty$"
   ]
  },
  {
   "cell_type": "markdown",
   "id": "d1b20879-0053-437d-98a2-356777eb171f",
   "metadata": {},
   "source": [
    "### B)"
   ]
  },
  {
   "cell_type": "markdown",
   "id": "9f64896b-3841-45d3-9a51-15e575621f8f",
   "metadata": {},
   "source": [
    "$X=U\\Sigma V^T$"
   ]
  },
  {
   "cell_type": "markdown",
   "id": "fed8fa76-4a25-4cc9-b469-cdd686a6968b",
   "metadata": {},
   "source": [
    "$\\tilde{y_{OLS}} = X\\beta =X(X^TX)^-1X^Ty =U\\Sigma V^T((U\\Sigma V^T)^TU\\Sigma V^T)^{-1}(U\\Sigma V^T)^Ty =$"
   ]
  },
  {
   "cell_type": "markdown",
   "id": "a51ae510-e43b-4021-8d72-4d2212d82f46",
   "metadata": {},
   "source": [
    "$U\\Sigma V^T(V\\tilde{\\Sigma^2}(V^T))^{-1} U^T\\Sigma^TVy = U\\tilde{\\Sigma^2}(\\tilde{\\Sigma^2})^{-1} U^Ty = U^TUy = \\sum_{j=0}^{p-1}u_ju_j^Ty$"
   ]
  },
  {
   "cell_type": "markdown",
   "id": "1e13fce6-35b4-4b8d-a0ee-fb258ead5658",
   "metadata": {},
   "source": [
    "## Exercise 2:"
   ]
  },
  {
   "cell_type": "markdown",
   "id": "700baa67-5e52-4907-b078-ab079cdb4c72",
   "metadata": {},
   "source": [
    "Version with GUI (Requires module Tkinter)"
   ]
  },
  {
   "cell_type": "code",
   "execution_count": 1,
   "id": "85a965ba-300b-4795-bfe7-764fefd04bc1",
   "metadata": {},
   "outputs": [],
   "source": [
    "import numpy as np\n",
    "import matplotlib.pyplot as plt\n",
    "from sklearn.linear_model import LinearRegression\n",
    "from sklearn.linear_model import Ridge\n",
    "from sklearn.model_selection import train_test_split\n",
    "from sklearn.preprocessing import StandardScaler, PolynomialFeatures\n",
    "from sklearn.pipeline import make_pipeline\n",
    "from sklearn.metrics import mean_squared_error, r2_score\n",
    "from tkinter import *\n",
    "\n",
    "\n",
    "import sys\n",
    "\n",
    "def calc_ridge():\n",
    "    #result.delete(\"1.0\", \"end\")\n",
    "\n",
    "    np.random.seed(2023)\n",
    "    n = 100\n",
    "\n",
    "    degrees = int(degree.get())\n",
    "    lmb_val = int(lmd.get())\n",
    "    x = np.linspace(-3, 3, n).reshape(-1, 1)\n",
    "    y = np.exp(-x**2) + 1.5 * np.exp(-(x-2)**2)+ np.random.normal(0, 0.1, x.shape)\n",
    "\n",
    "\n",
    "    X_train, X_test, y_train, y_test = train_test_split(x, y, test_size=0.2)\n",
    "    scaler = StandardScaler()\n",
    "    scaler.fit(X_train)\n",
    "    X_scaled_train = scaler.transform(X_train)\n",
    "    X_scaled_test = scaler.transform(X_test)\n",
    "\n",
    "\n",
    "    Xm_train = np.zeros((len(X_train), degrees))\n",
    "\n",
    "    for i in range(degrees):\n",
    "        Xm_train[:,i] = X_scaled_train[:,0] ** i\n",
    "\n",
    "    Xm_test = np.zeros((len(X_test), degrees))\n",
    "    for i in range(degrees):\n",
    "        Xm_test[:,i] = X_scaled_test[:,0] ** i\n",
    "\n",
    "    lmb = [0.0001,0.001,0.01,0.1,1.0]\n",
    "\n",
    "    beta = (np.linalg.inv(Xm_train.T @ Xm_train + lmb[lmb_val] * np.identity(degrees)) @ Xm_train.T ) @ y_train\n",
    "\n",
    "    ytilde_train = Xm_train @ beta\n",
    "    ytilde_test = Xm_test @ beta\n",
    "\n",
    "    mse_train = np.mean( np.mean((y_train - ytilde_train)**2))\n",
    "    mse_test = np.mean( np.mean((y_test - ytilde_test)**2))\n",
    "\n",
    "    result.insert(END, \"With degree \" + str(degrees) +\" and lambda = : \" + str(lmb[lmb_val]) + \"\\nMSE of training data with degree \"+ str(degrees) +\" polinomial: \"+ str(mse_train) +\" \\nMSE of testing data with degree \"+ str(degrees) +\" polinomial: \"+ str(mse_test)+ \"\\n\")\n",
    "\n",
    "    \"\"\"print(\"MSE of training data with 5th degree polinomial: \", mse_train)\n",
    "    print(\"MSE of testing data with 5th degree polinomial: \", mse_test)\"\"\"\n",
    "\n",
    "    plt.plot(x, y, \"r-\")\n",
    "    plt.scatter(X_train, ytilde_train, label=\"Train\")\n",
    "    plt.scatter(X_test, ytilde_test, label=\"Test\")\n",
    "    plt.legend()\n",
    "    plt.show()\n",
    "\n",
    "\n",
    "def reset_graph():\n",
    "    plt.clf()\n",
    "    plt.show()\n",
    "\n",
    "\n",
    "window = Tk()\n",
    "window.geometry(\"750x500\")\n",
    "\n",
    "degree_lbl = Label(text=\"Number of degrees:\")\n",
    "lambda_lbl = Label(text=\"Lambda value in arr (0-4):\")\n",
    "degree = Entry()\n",
    "lmd = Entry()\n",
    "degree.insert(0, \"5\")\n",
    "lmd.insert(0, \"0\")\n",
    "button = Button(text=\"Calcola\", command = calc_ridge)\n",
    "reset = Button(text=\"Reset\", command = reset_graph)\n",
    "result = Text(width=70, height=15)\n",
    "\n",
    "degree_lbl.pack()\n",
    "degree.pack()\n",
    "lambda_lbl.pack()\n",
    "lmd.pack()\n",
    "button.pack()\n",
    "\n",
    "result.pack()\n",
    "\n",
    "reset.pack()\n",
    "\n",
    "\n",
    "window.mainloop()\n",
    "\n",
    "\n",
    "\n",
    "\n"
   ]
  },
  {
   "cell_type": "markdown",
   "id": "3cee2ce2-3637-4056-8a6e-a2d4e8ef35ce",
   "metadata": {},
   "source": [
    "Version without GUI (Does not requires module Tkinter)"
   ]
  },
  {
   "cell_type": "code",
   "execution_count": 3,
   "id": "2b874316-3fb3-49cc-a182-d98d89a7ef36",
   "metadata": {},
   "outputs": [
    {
     "name": "stdout",
     "output_type": "stream",
     "text": [
      "MSE of training data with 5th degree polinomial:  0.03067952974946995\n",
      "MSE of testing data with 5th degree polinomial:  0.049723816713807385\n"
     ]
    },
    {
     "data": {
      "image/png": "[encoded data removed]",
      "text/plain": [
       "<Figure size 640x480 with 1 Axes>"
      ]
     },
     "metadata": {},
     "output_type": "display_data"
    }
   ],
   "source": [
    "import numpy as np\n",
    "import matplotlib.pyplot as plt\n",
    "from sklearn.linear_model import LinearRegression\n",
    "from sklearn.linear_model import Ridge\n",
    "from sklearn.model_selection import train_test_split\n",
    "from sklearn.preprocessing import StandardScaler, PolynomialFeatures\n",
    "from sklearn.pipeline import make_pipeline\n",
    "from sklearn.metrics import mean_squared_error, r2_score\n",
    "\n",
    "\n",
    "import sys\n",
    "\n",
    "np.random.seed(2023)\n",
    "n = 100\n",
    "\n",
    "degrees = 5\n",
    "lmb_val = 0\n",
    "x = np.linspace(-3, 3, n).reshape(-1, 1)\n",
    "y = np.exp(-x**2) + 1.5 * np.exp(-(x-2)**2)+ np.random.normal(0, 0.1, x.shape)\n",
    "\n",
    "\n",
    "X_train, X_test, y_train, y_test = train_test_split(x, y, test_size=0.2)\n",
    "scaler = StandardScaler()\n",
    "scaler.fit(X_train)\n",
    "X_scaled_train = scaler.transform(X_train)\n",
    "X_scaled_test = scaler.transform(X_test)\n",
    "\n",
    "\n",
    "Xm_train = np.zeros((len(X_train), degrees))\n",
    "\n",
    "for i in range(degrees):\n",
    "    Xm_train[:,i] = X_scaled_train[:,0] ** i\n",
    "\n",
    "Xm_test = np.zeros((len(X_test), degrees))\n",
    "for i in range(degrees):\n",
    "    Xm_test[:,i] = X_scaled_test[:,0] ** i\n",
    "\n",
    "lmb = [0.0001,0.001,0.01,0.1,1.0]\n",
    "\n",
    "beta = (np.linalg.inv(Xm_train.T @ Xm_train + lmb[lmb_val] * np.identity(degrees)) @ Xm_train.T ) @ y_train\n",
    "\n",
    "ytilde_train = Xm_train @ beta\n",
    "ytilde_test = Xm_test @ beta\n",
    "\n",
    "mse_train = np.mean( np.mean((y_train - ytilde_train)**2))\n",
    "mse_test = np.mean( np.mean((y_test - ytilde_test)**2))\n",
    "\n",
    "\n",
    "\n",
    "print(\"MSE of training data with 5th degree polinomial: \", mse_train)\n",
    "print(\"MSE of testing data with 5th degree polinomial: \", mse_test)\n",
    "\n",
    "plt.plot(x, y, \"r-\")\n",
    "plt.scatter(X_train, ytilde_train, label=\"Train\")\n",
    "plt.scatter(X_test, ytilde_test, label=\"Test\")\n",
    "plt.legend()\n",
    "plt.show()\n"
   ]
  },
  {
   "cell_type": "code",
   "execution_count": null,
   "id": "e5d6f0eb-68c4-4698-9ad9-683f9dabbb74",
   "metadata": {},
   "outputs": [],
   "source": []
  }
 ],
 "metadata": {
  "kernelspec": {
   "display_name": "Python 3 (ipykernel)",
   "language": "python",
   "name": "python3"
  },
  "language_info": {
   "codemirror_mode": {
    "name": "ipython",
    "version": 3
   },
   "file_extension": ".py",
   "mimetype": "text/x-python",
   "name": "python",
   "nbconvert_exporter": "python",
   "pygments_lexer": "ipython3",
   "version": "3.10.12"
  }
 },
 "nbformat": 4,
 "nbformat_minor": 5
}
